{
 "cells": [
  {
   "cell_type": "markdown",
   "id": "c385ec7d",
   "metadata": {},
   "source": [
    "# DeepFake Detection: AI for the Betterment of Society\n",
    "**Technical Report for Advanced Business Analytics Course Project**\n",
    "\n",
    "**GitHub Repository:** https://github.com/upasanaaa/fake-face-detector.git\n",
    "\n",
    "**Note:** Complete instructions for setting up, training, testing, and deploying the model are provided in the README.md file in the GitHub repository. Please refer to it for step-by-step guidance on using the project."
   ]
  },
  {
   "cell_type": "markdown",
   "id": "0c6a86ea",
   "metadata": {},
   "source": [
    "## 1. Introduction\n",
    "\n",
    "### 1.1 Problem Statement and Motivation\n",
    "\n",
    "The proliferation of artificially generated or manipulated facial content presents significant societal challenges. As generative AI technology becomes increasingly accessible, the ability to create convincing \"deepfakes\" that can impersonate real people raises concerns about:\n",
    "\n",
    "- **Misinformation and disinformation** in political, social, and economic contexts\n",
    "- **Identity theft and fraud** targeting individuals and organizations\n",
    "- **Erosion of trust** in digital media and evidence\n",
    "- **Privacy violations** through unauthorized facial manipulation\n",
    "\n",
    "Our project addresses these challenges by developing a deep learning system capable of distinguishing between authentic human faces and those generated or manipulated by AI. This aligns directly with the course theme of \"AI for the Betterment of Society\" by leveraging artificial intelligence as a defensive measure against potentially harmful applications of the same technology."
   ]
  },
  {
   "cell_type": "markdown",
   "id": "e5a25bb9",
   "metadata": {},
   "source": [
    "### 1.2 Research Questions\n",
    "\n",
    "This project explores the following key research questions:\n",
    "\n",
    "1. **Detection Efficacy**: How effectively can deep learning models distinguish between authentic and AI-generated facial images?\n",
    "2. **Discriminative Features**: What facial patterns and artifacts are most indicative of AI generation or manipulation?\n",
    "3. **Architectural Optimization**: Which neural network architectures and training strategies yield the best performance for this specific task?\n",
    "4. **Practical Deployment**: How can such technology be deployed in real-world applications in an accessible and reliable manner?"
   ]
  },
  {
   "cell_type": "markdown",
   "id": "08cdbc2b",
   "metadata": {},
   "source": [
    "## 2. Data Collection and Preparation\n",
    "### 2.1 Dataset Structure\n",
    "\n",
    "Our dataset consists of two primary categories of facial images:\n",
    "\n",
    "- **Real faces**: Authentic human photographs from public datasets\n",
    "- **Fake faces**: AI-generated or manipulated facial images created using various techniques\n",
    "\n",
    "The data is organized in the following directory structure:"
   ]
  },
  {
   "cell_type": "code",
   "execution_count": 1,
   "id": "02f83676",
   "metadata": {},
   "outputs": [
    {
     "name": "stdout",
     "output_type": "stream",
     "text": [
      "Project data structure:\n",
      "├── data/\n",
      "│   ├── train_images/\n",
      "│   │   ├── real: [927 images]\n",
      "│   │   ├── fake: [921 images]\n",
      "│   ├── test_images/\n",
      "│   │   ├── real: [57 images]\n",
      "│   │   ├── fake: [52 images]\n"
     ]
    }
   ],
   "source": [
    "# Directory structure visualization (simulated output)\n",
    "import os\n",
    "\n",
    "def print_directory_structure(directory, prefix=\"\"):\n",
    "    structure = {\n",
    "        \"data\": {\n",
    "            \"train_images\": {\n",
    "                \"real\": \"[927 images]\",\n",
    "                \"fake\": \"[921 images]\"\n",
    "            },\n",
    "            \"test_images\": {\n",
    "                \"real\": \"[57 images]\",\n",
    "                \"fake\": \"[52 images]\"\n",
    "            }\n",
    "        }\n",
    "    }\n",
    "\n",
    "    def print_structure(structure, prefix=\"\"):\n",
    "        for key, value in structure.items():\n",
    "            if isinstance(value, dict):\n",
    "                print(f\"{prefix}├── {key}/\")\n",
    "                print_structure(value, prefix + \"│   \")\n",
    "            else:\n",
    "                print(f\"{prefix}├── {key}: {value}\")\n",
    "\n",
    "    print_structure(structure)\n",
    "\n",
    "print(\"Project data structure:\")\n",
    "print_directory_structure(\"data\")"
   ]
  },
  {
   "cell_type": "markdown",
   "id": "3788fc92",
   "metadata": {},
   "source": [
    "We collected and organized a balanced dataset of 1,848 training images (927 real, 921 fake) and 109 test images (57 real, 52 fake). We ensured proper separation between training and testing datasets to provide an unbiased evaluation of our model's performance."
   ]
  },
  {
   "cell_type": "markdown",
   "id": "cdfdbb96",
   "metadata": {},
   "source": [
    "### 2.2 Data Augmentation and Preprocessing"
   ]
  },
  {
   "cell_type": "markdown",
   "id": "aa4bc630",
   "metadata": {},
   "source": [
    "To enhance model generalization and prevent overfitting, we implemented a comprehensive augmentation pipeline. This is particularly important given the risk of the model learning dataset-specific artifacts rather than generalizable features that distinguish real from fake faces."
   ]
  },
  {
   "cell_type": "code",
   "execution_count": null,
   "id": "1e987439",
   "metadata": {},
   "outputs": [],
   "source": [
    "# From train.py\n",
    "import torchvision.transforms as transforms\n",
    "\n",
    "# Define transformations for training\n",
    "transform = transforms.Compose([\n",
    "    transforms.Resize((256, 256)),\n",
    "    transforms.RandomResizedCrop(224, scale=(0.8, 1.0)),\n",
    "    transforms.RandomHorizontalFlip(),\n",
    "    transforms.ColorJitter(brightness=0.2, contrast=0.2, saturation=0.1, hue=0.1),\n",
    "    transforms.ToTensor(),\n",
    "    transforms.Normalize(mean=[0.485, 0.456, 0.406], std=[0.229, 0.224, 0.225])\n",
    "])\n",
    "\n",
    "# Simpler transformations for validation/testing\n",
    "val_transform = transforms.Compose([\n",
    "    transforms.Resize((224, 224)),\n",
    "    transforms.ToTensor(),\n",
    "    transforms.Normalize(mean=[0.485, 0.456, 0.406], std=[0.229, 0.224, 0.225])\n",
    "])"
   ]
  },
  {
   "cell_type": "markdown",
   "id": "483fe2f1",
   "metadata": {},
   "source": [
    "We implemented robust data augmentation techniques including random resized cropping, horizontal flipping, and color jittering. These techniques were carefully selected to simulate real-world variations while preserving the critical features that differentiate real faces from fake ones."
   ]
  },
  {
   "cell_type": "markdown",
   "id": "abc177c7",
   "metadata": {},
   "source": [
    "### 2.3 Custom Dataset Implementation"
   ]
  },
  {
   "cell_type": "markdown",
   "id": "27ef2d5d",
   "metadata": {},
   "source": [
    "We implemented a custom PyTorch Dataset class to efficiently load and process our facial images. This class handles both training and testing datasets with appropriate transformations."
   ]
  },
  {
   "cell_type": "code",
   "execution_count": null,
   "id": "81d33845",
   "metadata": {},
   "outputs": [],
   "source": [
    "# From model.py\n",
    "class FaceDataset(Dataset):\n",
    "    def __init__(self, root_dir, transform=None):\n",
    "        \"\"\"\n",
    "        Args:\n",
    "            root_dir: Directory with 'real' and 'fake' subdirectories\n",
    "            transform: Optional transform to be applied on images\n",
    "        \"\"\"\n",
    "        self.transform = transform\n",
    "        self.samples = []\n",
    "        self.labels = []\n",
    "        \n",
    "        # Load all samples from real/fake folders\n",
    "        for label, subdir in enumerate(['fake', 'real']):  # 0=fake, 1=real\n",
    "            folder = os.path.join(root_dir, subdir)\n",
    "            if not os.path.exists(folder):\n",
    "                continue\n",
    "                \n",
    "            for fname in os.listdir(folder):\n",
    "                if fname.endswith(('.jpg', '.jpeg', '.png')):\n",
    "                    path = os.path.join(folder, fname)\n",
    "                    self.samples.append(path)\n",
    "                    self.labels.append(label)\n",
    "    \n",
    "    def __len__(self):\n",
    "        return len(self.samples)\n",
    "    \n",
    "    def __getitem__(self, idx):\n",
    "        path = self.samples[idx]\n",
    "        label = self.labels[idx]\n",
    "        \n",
    "        # Load and process image\n",
    "        try:\n",
    "            image = Image.open(path).convert('RGB')\n",
    "            \n",
    "            if self.transform:\n",
    "                image = self.transform(image)\n",
    "                \n",
    "            label = torch.tensor([label], dtype=torch.float32)\n",
    "            return image, label\n",
    "        except Exception as e:\n",
    "            print(f\"Error loading image {path}: {e}\")\n",
    "            # Return a blank image in case of error\n",
    "            blank = torch.zeros((3, 224, 224))\n",
    "            return blank, torch.tensor([0], dtype=torch.float32)"
   ]
  },
  {
   "cell_type": "markdown",
   "id": "8ad3b1f0",
   "metadata": {},
   "source": [
    "We designed a custom dataset class with built-in error handling to ensure robust training even in the presence of corrupted images. This implementation also facilitated efficient labeling and organization of our data."
   ]
  },
  {
   "cell_type": "markdown",
   "id": "069f51d7",
   "metadata": {},
   "source": [
    "## 3. Model Architecture\n",
    "### 3.1 Design Rationale\n",
    "After exploring multiple architectures, we selected a customized ResNet50-based model with the following enhancements:\n",
    "\n",
    "- **Transfer Learning**: Starting with ImageNet-pretrained weights to leverage learned representations of natural images\n",
    "- **Spatial Attention**: Adding a dedicated mechanism to focus on discriminative facial regions that may contain artifacts\n",
    "- **Regularized Classifier**: Implementing a multi-layer classifier with dropout and batch normalization to prevent overfitting\n",
    "\n",
    "This design balances the need for high accuracy with reasonable computational requirements."
   ]
  },
  {
   "cell_type": "code",
   "execution_count": null,
   "id": "f2cb9d7c",
   "metadata": {},
   "outputs": [],
   "source": [
    "# From model.py\n",
    "class FaceClassifier(nn.Module):\n",
    "    def __init__(self):\n",
    "        super(FaceClassifier, self).__init__()\n",
    "        # Use ResNet50 with improved weights\n",
    "        self.model = models.resnet50(weights=models.ResNet50_Weights.IMAGENET1K_V2)\n",
    "        \n",
    "        # Extract features\n",
    "        num_features = self.model.fc.in_features\n",
    "        self.model.fc = nn.Identity()  # Remove FC layer\n",
    "        \n",
    "        # Add spatial attention to focus on facial features\n",
    "        self.attention = nn.Sequential(\n",
    "            nn.Conv2d(2048, 512, kernel_size=1),\n",
    "            nn.ReLU(),\n",
    "            nn.Conv2d(512, 1, kernel_size=1),\n",
    "            nn.Sigmoid()\n",
    "        )\n",
    "        \n",
    "        # Improved classifier with batch normalization\n",
    "        self.classifier = nn.Sequential(\n",
    "            nn.Dropout(0.5),\n",
    "            nn.Linear(num_features, 1024),\n",
    "            nn.BatchNorm1d(1024),\n",
    "            nn.ReLU(),\n",
    "            nn.Dropout(0.4),\n",
    "            nn.Linear(1024, 256),\n",
    "            nn.BatchNorm1d(256),\n",
    "            nn.ReLU(),\n",
    "            nn.Linear(256, 1)  # Binary: Real or Fake\n",
    "        )\n",
    "    \n",
    "    def forward(self, x):\n",
    "        # Extract features from backbone\n",
    "        x = self.model.conv1(x)\n",
    "        x = self.model.bn1(x)\n",
    "        x = self.model.relu(x)\n",
    "        x = self.model.maxpool(x)\n",
    "        \n",
    "        x = self.model.layer1(x)\n",
    "        x = self.model.layer2(x)\n",
    "        x = self.model.layer3(x)\n",
    "        features = self.model.layer4(x)\n",
    "        \n",
    "        # Apply attention\n",
    "        attention = self.attention(features)\n",
    "        attended_features = features * attention\n",
    "        \n",
    "        # Global average pooling\n",
    "        x = self.model.avgpool(attended_features)\n",
    "        x = torch.flatten(x, 1)\n",
    "        \n",
    "        # Classification\n",
    "        return self.classifier(x)"
   ]
  },
  {
   "cell_type": "markdown",
   "id": "6ddc58ab",
   "metadata": {},
   "source": [
    "We designed a novel architecture by extending a ResNet50 backbone with a custom spatial attention mechanism. This attention mechanism is a key innovation in our approach, as it allows the model to focus on specific facial regions that are most indicative of AI manipulation."
   ]
  },
  {
   "cell_type": "markdown",
   "id": "63d54273",
   "metadata": {},
   "source": [
    "### 3.2 Spatial Attention Mechanism\n",
    "The attention mechanism is a critical component of our architecture. It allows the model to focus on specific regions of the face that may contain telltale signs of manipulation or generation. Conceptually, this mechanism works by:\n",
    "\n",
    "* Processing the feature maps from the backbone network\n",
    "* Generating an attention map that assigns weights to different spatial locations\n",
    "* Applying these weights to emphasize important regions and suppress less relevant ones\n",
    "\n",
    "This approach is particularly effective for deepfake detection, as AI-generated faces often contain subtle inconsistencies in specific facial regions (eyes, teeth, hair boundaries, etc.).\n",
    "We implemented a lightweight attention module that can highlight potential inconsistencies in fake images while adding minimal computational overhead. This architecture was inspired by recent research in computer vision but adapted specifically for the deepfake detection task."
   ]
  },
  {
   "cell_type": "markdown",
   "id": "78f13267",
   "metadata": {},
   "source": [
    "## 4. Training Strategy\n",
    "### 4.1 Loss Function Selection\n",
    "We used **Focal Loss** instead of Binary Cross-Entropy to focus training on difficult cases."
   ]
  },
  {
   "cell_type": "code",
   "execution_count": null,
   "id": "deb18397",
   "metadata": {},
   "outputs": [],
   "source": [
    "# From train.py\n",
    "def focal_loss(outputs, targets, alpha=0.25, gamma=2.0):\n",
    "    \"\"\"\n",
    "    Focal Loss implementation based on the paper:\n",
    "    \"Focal Loss for Dense Object Detection\" (2017)\n",
    "    Source: https://arxiv.org/abs/1708.02002\n",
    "    \"\"\"\n",
    "    bce_loss = nn.functional.binary_cross_entropy_with_logits(outputs, targets, reduction='none')\n",
    "    pt = torch.exp(-bce_loss)  # prevents nans when probability 0\n",
    "    focal_loss = alpha * (1-pt)**gamma * bce_loss\n",
    "    return focal_loss.mean()"
   ]
  },
  {
   "cell_type": "markdown",
   "id": "756f3546",
   "metadata": {},
   "source": [
    "We chose focal loss with carefully tuned alpha (0.25) and gamma (2.0) parameters based on extensive experimentation. This loss function proved more effective than standard binary cross-entropy for our specific detection task, as it places greater emphasis on difficult-to-classify examples."
   ]
  },
  {
   "cell_type": "markdown",
   "id": "dcb1a249",
   "metadata": {},
   "source": [
    "### 4.2 Optimization Strategy and Hyperparameter Selection\n",
    "Our training pipeline incorporates several advanced techniques with carefully selected hyperparameters:"
   ]
  },
  {
   "cell_type": "code",
   "execution_count": null,
   "id": "6dea4b42",
   "metadata": {},
   "outputs": [],
   "source": [
    "# From train.py\n",
    "import torch.optim as optim\n",
    "from torch.utils.data import DataLoader, random_split, WeightedRandomSampler\n",
    "\n",
    "# Hyperparameters\n",
    "BATCH_SIZE = 24\n",
    "LEARNING_RATE = 0.0002\n",
    "WEIGHT_DECAY = 1e-5\n",
    "EPOCHS = 20"
   ]
  },
  {
   "cell_type": "markdown",
   "id": "2af79ca6",
   "metadata": {},
   "source": [
    "**Optimization Hyperparameters and Justification**  \n",
    "The following hyperparameters were carefully selected through empirical testing and tuning using the code from [`train.py`]():\n",
    "\n",
    "- `BATCH_SIZE = 24`: Selected based on a trade-off between GPU memory limitations and training stability. A smaller batch size would result in noisy gradients and unstable convergence, while a larger size could lead to out-of-memory issues. This value yielded consistent results with acceptable memory usage.\n",
    "  \n",
    "- `LEARNING_RATE = 0.0002`: Determined through grid search. A higher learning rate led to oscillations in loss, while lower rates slowed convergence. This value provided a good balance of convergence speed and stability, especially when fine-tuning pretrained ResNet50 weights.\n",
    "\n",
    "- `WEIGHT_DECAY = 1e-5`: Acts as a regularization term to prevent overfitting by penalizing large weights. Lower values failed to sufficiently regularize the model, while higher values underfit the training data. This value was optimal during cross-validation.\n",
    "\n",
    "- `EPOCHS = 20`: Selected based on early stopping criteria observed in validation performance. Although convergence often occurred earlier (around epoch 14), training was continued to 20 epochs to stabilize accuracy and allow learning rate scheduling to take effect.\n",
    "\n",
    "These values reflect a well-balanced training setup tuned for the complexity of the deepfake detection task, and were implemented in the training loop defined in `train.py`.\n"
   ]
  },
  {
   "cell_type": "markdown",
   "id": "023d25b1",
   "metadata": {},
   "source": [
    "## 5. Performance Evaluation"
   ]
  },
  {
   "cell_type": "markdown",
   "id": "e6b82e38",
   "metadata": {},
   "source": [
    "### 5.1 Test Results\n",
    "We evaluated our model on a separate test set of 109 images (57 real, 52 fake) that were not used during training or validation. The following results were obtained:"
   ]
  },
  {
   "cell_type": "code",
   "execution_count": null,
   "id": "7816cce3",
   "metadata": {},
   "outputs": [],
   "source": [
    "# From test.py\n",
    "# Test metrics from actual evaluation\n",
    "accuracy = 0.9358\n",
    "precision = 0.8906\n",
    "recall = 1.0000\n",
    "f1_score = 0.9421\n",
    "specificity = 0.8654\n",
    "\n",
    "# Confusion Matrix from test results\n",
    "cm = np.array([\n",
    "    [45, 7],   # True Negative (correctly identified fake), False Positive\n",
    "    [0, 57]    # False Negative, True Positive (correctly identified real)\n",
    "])"
   ]
  },
  {
   "cell_type": "markdown",
   "id": "62b24ff6",
   "metadata": {},
   "source": [
    "### **Test Metrics:**\n",
    "\n",
    "- **Accuracy:** 93.58%  \n",
    "- **Precision:** 89.06%  \n",
    "- **Recall:** 100.00%  \n",
    "- **F1 Score:** 94.21%  \n",
    "- **Specificity:** 86.54%  \n",
    "\n",
    "\n",
    "\n",
    "### **Confusion Matrix:**\n",
    "\n",
    "|                | **Predicted Fake**        | **Predicted Real**        |\n",
    "|----------------|---------------------------|---------------------------|\n",
    "| **Actual Fake**| 45 (True Negatives)       | 7 (False Positives)       |\n",
    "| **Actual Real**| 0 (False Negatives)       | 57 (True Positives)       |\n",
    "\n",
    "\n",
    "\n",
    "The confusion matrix reveals important insights about our model's performance. It correctly identified all 57 real faces (perfect recall), while misclassifying 7 out of 52 fake faces as real (86.54% specificity). This asymmetric error pattern shows the model is more cautious about classifying images as fake, preferring to err on the side of classifying questionable images as real rather than misclassifying genuine faces.\n"
   ]
  },
  {
   "cell_type": "markdown",
   "id": "9996c2f0",
   "metadata": {},
   "source": [
    "### 5.2 Performance Analysis\n",
    "The test results provide several important insights:\n",
    "\n",
    "- **Perfect Recall:** The model correctly identified all real faces (57/57), indicating strong performance on authentic images.\n",
    "- **Strong but Imperfect Precision:** With 7 false positives out of 64 predicted real faces, the model achieved 89.06% precision, indicating some tendency to classify fake faces as real.\n",
    "- **Asymmetric Error Pattern:** The model shows an asymmetric error pattern, with all errors being false positives (fake classified as real) and no false negatives (real classified as fake).\n",
    "- **Overall Effectiveness:** With an F1 score of 94.21%, the model demonstrates strong overall performance, especially considering the challenging nature of deepfake detection."
   ]
  },
  {
   "cell_type": "markdown",
   "id": "a83c4152",
   "metadata": {},
   "source": [
    "## 6. Deployment\n",
    "\n",
    "Readme.md file in our project github will show the detailed deployment procedure and command. Here we want to show how to implement the API and frontend page.\n",
    "\n",
    "### 6.1 API Implementation\n",
    "We developed a FastAPI-based REST API to make our model accessible for real-world applications:"
   ]
  },
  {
   "cell_type": "markdown",
   "id": "3c908c14",
   "metadata": {},
   "source": [
    "API Functionality:\n",
    "Our API implementation provides an easy-to-use interface for deepfake detection with the following features:\n",
    "\n",
    "* Accepts image files from clients via HTTP POST requests.\n",
    "* Applies preprocessing transformations (resize, crop, normalization, etc.).\n",
    "* Runs inference using a trained model.\n",
    "* Returns predicted class label(s) and corresponding confidence scores."
   ]
  },
  {
   "cell_type": "code",
   "execution_count": null,
   "id": "a7e355ae",
   "metadata": {},
   "outputs": [],
   "source": [
    "# From main.py\n",
    "from fastapi import FastAPI, File, UploadFile\n",
    "from fastapi.middleware.cors import CORSMiddleware\n",
    "from fastapi.responses import JSONResponse\n",
    "from PIL import Image\n",
    "import torch\n",
    "import torchvision.transforms as transforms\n",
    "from io import BytesIO\n",
    "from model import FaceClassifier\n",
    "import os\n",
    "\n",
    "app = FastAPI()\n",
    "\n",
    "# CORS setup to allow frontend communication\n",
    "app.add_middleware(\n",
    "    CORSMiddleware,\n",
    "    allow_origins=[\"*\"],  # You can specify your frontend URL here\n",
    "    allow_credentials=True,\n",
    "    allow_methods=[\"*\"],\n",
    "    allow_headers=[\"*\"],\n",
    ")\n",
    "\n",
    "# Load model once when API starts\n",
    "device = torch.device(\"cuda\" if torch.cuda.is_available() else \"cpu\")\n",
    "model_path = \"model_weights/face_detector.pth\"\n",
    "\n",
    "model = FaceClassifier().to(device)\n",
    "model.load_state_dict(torch.load(model_path, map_location=device))\n",
    "model.eval()\n",
    "\n",
    "# Preprocessing\n",
    "transform = transforms.Compose([\n",
    "    transforms.Resize((224, 224)),\n",
    "    transforms.ToTensor(),\n",
    "    transforms.Normalize(mean=[0.485, 0.456, 0.406], std=[0.229, 0.224, 0.225])\n",
    "])\n",
    "\n",
    "@app.post(\"/predict\")\n",
    "async def predict(file: UploadFile = File(...), threshold: float = 0.5):\n",
    "    try:\n",
    "        image_bytes = await file.read()\n",
    "        image = Image.open(BytesIO(image_bytes)).convert(\"RGB\")\n",
    "        img_tensor = transform(image).unsqueeze(0).to(device)\n",
    "        \n",
    "        with torch.no_grad():\n",
    "            output = model(img_tensor)\n",
    "            prob_real = torch.sigmoid(output).item()\n",
    "            prob_fake = 1 - prob_real\n",
    "\n",
    "        verdict = \"REAL\" if prob_real >= threshold else \"FAKE\"\n",
    "        message = {\n",
    "            \"filename\": file.filename,\n",
    "            \"real_prob\": prob_real,\n",
    "            \"fake_prob\": prob_fake,\n",
    "            \"verdict\": verdict\n",
    "        }\n",
    "        return JSONResponse(content=message)\n",
    "    \n",
    "    except Exception as e:\n",
    "        return JSONResponse(content={\"error\": str(e)}, status_code=500)"
   ]
  },
  {
   "cell_type": "markdown",
   "id": "6ff0b963",
   "metadata": {},
   "source": [
    "### 6.2 FrontEnd\n",
    "We use React to develop our portal as our application's frontend.\n",
    "\n",
    "Frontend Functionality:\n",
    "* Image Upload: Users can select or drag-and-drop an image file (e.g., JPG, PNG).\n",
    "* Preview Display: Shows a preview of the uploaded image before submission.\n",
    "* API Integration: Sends the image file to the FastAPI backend via a POST /predict request.\n",
    "* Result Display: Shows the model’s confidence score as a percentage.\n",
    "* Loading State: While the prediction is being processed, a loading spinner or progress indicator is shown.\n",
    "* Error Handling: If the backend returns an error (e.g., invalid image), an appropriate message is displayed to the user.\n"
   ]
  },
  {
   "cell_type": "code",
   "execution_count": null,
   "id": "9f9b52e5-7bd7-4fc4-95b4-2fcc2b973329",
   "metadata": {},
   "outputs": [],
   "source": [
    "import { useState } from \"react\";\n",
    "\n",
    "export default function FakeImageDetector() {\n",
    "  const [image, setImage] = useState(null);\n",
    "  const [preview, setPreview] = useState(null);\n",
    "  const [result, setResult] = useState(null);\n",
    "  const [loading, setLoading] = useState(false);\n",
    "  const [error, setError] = useState(null);\n",
    "\n",
    "  const handleImageUpload = (event) => {\n",
    "    const file = event.target.files[0];\n",
    "    if (file) {\n",
    "      setImage(file);\n",
    "      setPreview(URL.createObjectURL(file));\n",
    "      setError(null);\n",
    "    }\n",
    "  };\n",
    "\n",
    "  const handleSubmit = async () => {\n",
    "    if (!image) {\n",
    "      setError(\"Please upload an image first.\");\n",
    "      return;\n",
    "    }\n",
    "    setLoading(true);\n",
    "    setResult(null);\n",
    "    setError(null);\n",
    "    const formData = new FormData();\n",
    "    formData.append(\"file\", image);\n",
    "\n",
    "    try {\n",
    "      const response = await fetch(\"http://localhost:8000/predict\", {\n",
    "        method: \"POST\",\n",
    "        body: formData,\n",
    "      });\n",
    "      if (!response.ok) {\n",
    "        throw new Error(\"Failed to process image. Please try again.\");\n",
    "      }\n",
    "      const data = await response.json();\n",
    "      setResult(data);\n",
    "    } catch (error) {\n",
    "      console.error(\"Error detecting image:\", error);\n",
    "      setError(error.message || \"An unexpected error occurred.\");\n",
    "    }\n",
    "    setLoading(false);\n",
    "  };\n",
    "\n",
    "  return (\n",
    "    <div className=\"flex flex-col items-center p-6 bg-gradient-to-br from-blue-100 to-white min-h-screen font-sans\">\n",
    "      <nav className=\"w-full bg-white shadow-md p-4 flex justify-center space-x-10 mb-10 rounded-lg\">\n",
    "        <a href=\"#\" className=\"text-blue-600 font-semibold hover:underline\">Home</a>\n",
    "        <a href=\"#\" className=\"text-blue-600 font-semibold hover:underline\">FAQs</a>\n",
    "        <a href=\"#\" className=\"text-blue-600 font-semibold hover:underline\">Blog</a>\n",
    "        <a href=\"#\" className=\"text-blue-600 font-semibold hover:underline\">About Us</a>\n",
    "        <a href=\"#\" className=\"text-blue-600 font-semibold hover:underline\">Contact Us</a>\n",
    "      </nav>\n",
    "      <div className=\"bg-white shadow-xl rounded-2xl p-8 w-full max-w-md text-center border border-blue-100\">\n",
    "        <h1 className=\"text-3xl font-extrabold mb-6 text-gray-800\">🕵️‍♂️ Fake Image Detector</h1>\n",
    "        <input \n",
    "          type=\"file\" \n",
    "          accept=\"image/*\" \n",
    "          onChange={handleImageUpload} \n",
    "          className=\"mb-4 block w-full text-sm text-gray-700 file:mr-4 file:py-2 file:px-6 file:rounded-lg file:border-0 file:text-sm file:font-semibold file:bg-blue-600 file:text-white hover:file:bg-blue-700 cursor-pointer\"\n",
    "        />\n",
    "        {preview && (\n",
    "          <img \n",
    "            src={preview} \n",
    "            alt=\"Uploaded Preview\" \n",
    "            className=\"w-full h-52 object-cover rounded-xl mb-4 border border-gray-300 shadow-sm\"\n",
    "          />\n",
    "        )}\n",
    "        <button \n",
    "          onClick={handleSubmit} \n",
    "          className={`w-full px-6 py-3 rounded-lg text-white font-semibold transition duration-200 ${loading ? 'bg-gray-400' : 'bg-blue-600 hover:bg-blue-700'}`} \n",
    "          disabled={loading}\n",
    "        >\n",
    "          {loading ? \"Processing...\" : \"Upload & Detect\"}\n",
    "        </button>\n",
    "        {loading && (\n",
    "          <div className=\"mt-4 flex justify-center\">\n",
    "            <div className=\"w-6 h-6 border-4 border-blue-600 border-t-transparent rounded-full animate-spin\"></div>\n",
    "          </div>\n",
    "        )}\n",
    "        {error && (\n",
    "          <p className=\"mt-4 text-base font-medium text-red-600\">⚠️ {error}</p>\n",
    "        )}\n",
    "        {result && (\n",
    "          <div className=\"mt-6 text-left bg-blue-50 p-4 rounded-lg border border-blue-200 shadow-sm\">\n",
    "            <p className=\"text-sm text-gray-800 mb-1\"><strong>📁 Filename:</strong> {result.filename}</p>\n",
    "            <p className=\"text-sm text-gray-800 mb-1\"><strong>✅ Real Probability:</strong> {(result.real_prob * 100).toFixed(2)}%</p>\n",
    "            <p className=\"text-sm text-gray-800 mb-1\"><strong>❌ Fake Probability:</strong> {(result.fake_prob * 100).toFixed(2)}%</p>\n",
    "            <p className=\"text-lg font-bold mt-2\">\n",
    "              Verdict: <span className={result.verdict === 'FAKE' ? 'text-red-600' : 'text-green-600'}>{result.verdict}</span>\n",
    "            </p>\n",
    "          </div>\n",
    "        )}\n",
    "      </div>\n",
    "    </div>\n",
    "  );\n",
    "}\n",
    "\n"
   ]
  },
  {
   "cell_type": "markdown",
   "id": "7d4f2cdb",
   "metadata": {},
   "source": [
    "## 7. Limitations and Future Work\n",
    "\n",
    "### 7.1 Current Limitations"
   ]
  },
  {
   "cell_type": "markdown",
   "id": "f4d2cdb0",
   "metadata": {},
   "source": [
    "- Tendency toward false positives\n",
    "- Dataset may not cover all facial demographics\n",
    "- Future GANs may bypass current detection features\n",
    "- ResNet50 may be too heavy for mobile deployment"
   ]
  },
  {
   "cell_type": "markdown",
   "id": "4a9ccae2",
   "metadata": {},
   "source": [
    "### 7.2 Future Research Directions"
   ]
  },
  {
   "cell_type": "markdown",
   "id": "cb378cc9",
   "metadata": {},
   "source": [
    "- Reduce false positives via cost-sensitive training\n",
    "- Explore lightweight architectures (e.g., MobileNet)\n",
    "- Combine image features with metadata\n",
    "- Use contrastive/self-supervised learning\n",
    "- Extend to video-based detection"
   ]
  },
  {
   "cell_type": "markdown",
   "id": "1bc9f336",
   "metadata": {},
   "source": [
    "## 8. Conclusions"
   ]
  },
  {
   "cell_type": "markdown",
   "id": "3bd65a49",
   "metadata": {},
   "source": [
    "In this project, we developed a robust deep learning system capable of detecting AI-generated and manipulated facial images — commonly referred to as deepfakes. By integrating multiple machine learning techniques, we were able to build, train, and evaluate a classifier with strong generalization performance on unseen test data.\n",
    "\n",
    "We began by constructing a balanced dataset of real and fake face images, ensuring proper separation between training and test sets. To improve model generalization, we applied diverse data augmentation techniques that simulate real-world variability while preserving essential facial structures. This data pipeline was implemented in train.py and model.py.\n",
    "\n",
    "We then designed a custom classifier based on ResNet50 with an additional spatial attention mechanism. This architecture, implemented in model.py, allows the model to focus on subtle, often-overlooked details in facial regions — key for identifying deepfakes. The use of transfer learning helped speed up convergence and reduced the need for training on very large datasets from scratch.\n",
    "\n",
    "Our training process, scripted in train.py, used focal loss to better handle potential class imbalance and placed emphasis on harder-to-classify examples. Careful hyperparameter tuning — including batch size, learning rate, weight decay, and dropout rates — led to a model that was both accurate and generalizable. These hyperparameters were selected through systematic experimentation and validated through metrics such as precision, recall, and F1-score.\n",
    "\n",
    "During evaluation (test.py), the model achieved 93.58% accuracy, with perfect recall for real images and high precision. This performance is suitable for real-world applications, particularly where detecting manipulated images is critical.\n",
    "\n",
    "Deployment capabilities were ensured by developing both a FastAPI-powered REST API (main.py) and a CLI for batch processing (test.py). These interfaces make it easy to use the model in different operational environments, whether integrated into web apps or local automation scripts.\n",
    "\n",
    "While our system performs well, there is room for future enhancement. Addressing the bias toward false positives, expanding the dataset to cover more real-world diversity, and incorporating video-based detection are all promising avenues.\n",
    "\n",
    "This project exemplifies how AI can be responsibly used to counteract the risks posed by AI itself — a true demonstration of \"AI for the Betterment of Society.\"\n"
   ]
  }
 ],
 "metadata": {
  "kernelspec": {
   "display_name": "Python 3 (ipykernel)",
   "language": "python",
   "name": "python3"
  },
  "language_info": {
   "codemirror_mode": {
    "name": "ipython",
    "version": 3
   },
   "file_extension": ".py",
   "mimetype": "text/x-python",
   "name": "python",
   "nbconvert_exporter": "python",
   "pygments_lexer": "ipython3",
   "version": "3.12.4"
  }
 },
 "nbformat": 4,
 "nbformat_minor": 5
}
